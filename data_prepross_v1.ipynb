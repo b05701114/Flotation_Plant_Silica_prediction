{
 "cells": [
  {
   "cell_type": "code",
   "execution_count": 1,
   "id": "837d19bc-0e17-4051-b40a-0b326ae58992",
   "metadata": {
    "execution": {
     "iopub.execute_input": "2022-12-17T04:07:27.392797Z",
     "iopub.status.busy": "2022-12-17T04:07:27.391842Z",
     "iopub.status.idle": "2022-12-17T04:07:28.475863Z",
     "shell.execute_reply": "2022-12-17T04:07:28.474841Z",
     "shell.execute_reply.started": "2022-12-17T04:07:27.392797Z"
    },
    "tags": []
   },
   "outputs": [],
   "source": [
    "import pandas as pd\n",
    "import datetime"
   ]
  },
  {
   "cell_type": "markdown",
   "id": "6a4f88d8-6d3e-4d62-b09b-6e0e7f55a449",
   "metadata": {},
   "source": [
    "# dataset\n",
    "source: Kaggle | Quality Prediction in a Mining Process  \n",
    "https://www.kaggle.com/datasets/edumagalhaes/quality-prediction-in-a-mining-process  \n",
    "資料集取得於Kaggle上的Quality Prediction in a Mining Process的資料集，裡面包含時間跨度2017/03/10到2017/09/09泡沫浮選廠中鐵礦浮選流程中輸入到輸出，多數為每20秒產生一筆相關資訊，共24欄737,453筆。"
   ]
  },
  {
   "cell_type": "code",
   "execution_count": 2,
   "id": "0db5f09b-ede0-4067-ac54-20805ae5153f",
   "metadata": {
    "execution": {
     "iopub.execute_input": "2022-12-17T04:07:30.032973Z",
     "iopub.status.busy": "2022-12-17T04:07:30.032973Z",
     "iopub.status.idle": "2022-12-17T04:07:36.116061Z",
     "shell.execute_reply": "2022-12-17T04:07:36.115060Z",
     "shell.execute_reply.started": "2022-12-17T04:07:30.032973Z"
    },
    "tags": []
   },
   "outputs": [],
   "source": [
    "df_mining_raw = pd.read_csv('./data/MiningProcess_Flotation_Plant_Database.csv')"
   ]
  },
  {
   "cell_type": "code",
   "execution_count": 3,
   "id": "97801a4d-f70d-45c7-88e6-f5231ad1bba7",
   "metadata": {
    "execution": {
     "iopub.execute_input": "2022-12-17T04:07:37.112236Z",
     "iopub.status.busy": "2022-12-17T04:07:37.111238Z",
     "iopub.status.idle": "2022-12-17T04:07:55.488685Z",
     "shell.execute_reply": "2022-12-17T04:07:55.487836Z",
     "shell.execute_reply.started": "2022-12-17T04:07:37.112236Z"
    },
    "tags": []
   },
   "outputs": [],
   "source": [
    "# data type preprocess\n",
    "for col in df_mining_raw.columns:\n",
    "    if col != 'date':\n",
    "        df_mining_raw[col] = df_mining_raw[col].str.replace(',', '.', regex=False)\n",
    "        df_mining_raw[col] = pd.to_numeric(df_mining_raw[col])\n",
    "    else:\n",
    "        df_mining_raw[col] = pd.to_datetime(df_mining_raw[col]) "
   ]
  },
  {
   "cell_type": "code",
   "execution_count": 5,
   "id": "53eabb1c-884c-4a2b-9aee-d2675ba4d74e",
   "metadata": {
    "execution": {
     "iopub.execute_input": "2022-12-17T04:08:13.135388Z",
     "iopub.status.busy": "2022-12-17T04:08:13.135388Z",
     "iopub.status.idle": "2022-12-17T04:08:13.275014Z",
     "shell.execute_reply": "2022-12-17T04:08:13.274017Z",
     "shell.execute_reply.started": "2022-12-17T04:08:13.135388Z"
    },
    "tags": []
   },
   "outputs": [
    {
     "name": "stdout",
     "output_type": "stream",
     "text": [
      "<class 'pandas.core.frame.DataFrame'>\n",
      "RangeIndex: 737453 entries, 0 to 737452\n",
      "Data columns (total 24 columns):\n",
      " #   Column                        Non-Null Count   Dtype         \n",
      "---  ------                        --------------   -----         \n",
      " 0   date                          737453 non-null  datetime64[ns]\n",
      " 1   % Iron Feed                   737453 non-null  float64       \n",
      " 2   % Silica Feed                 737453 non-null  float64       \n",
      " 3   Starch Flow                   737453 non-null  float64       \n",
      " 4   Amina Flow                    737453 non-null  float64       \n",
      " 5   Ore Pulp Flow                 737453 non-null  float64       \n",
      " 6   Ore Pulp pH                   737453 non-null  float64       \n",
      " 7   Ore Pulp Density              737453 non-null  float64       \n",
      " 8   Flotation Column 01 Air Flow  737453 non-null  float64       \n",
      " 9   Flotation Column 02 Air Flow  737453 non-null  float64       \n",
      " 10  Flotation Column 03 Air Flow  737453 non-null  float64       \n",
      " 11  Flotation Column 04 Air Flow  737453 non-null  float64       \n",
      " 12  Flotation Column 05 Air Flow  737453 non-null  float64       \n",
      " 13  Flotation Column 06 Air Flow  737453 non-null  float64       \n",
      " 14  Flotation Column 07 Air Flow  737453 non-null  float64       \n",
      " 15  Flotation Column 01 Level     737453 non-null  float64       \n",
      " 16  Flotation Column 02 Level     737453 non-null  float64       \n",
      " 17  Flotation Column 03 Level     737453 non-null  float64       \n",
      " 18  Flotation Column 04 Level     737453 non-null  float64       \n",
      " 19  Flotation Column 05 Level     737453 non-null  float64       \n",
      " 20  Flotation Column 06 Level     737453 non-null  float64       \n",
      " 21  Flotation Column 07 Level     737453 non-null  float64       \n",
      " 22  % Iron Concentrate            737453 non-null  float64       \n",
      " 23  % Silica Concentrate          737453 non-null  float64       \n",
      "dtypes: datetime64[ns](1), float64(23)\n",
      "memory usage: 135.0 MB\n"
     ]
    }
   ],
   "source": [
    "df_mining_raw.info()"
   ]
  },
  {
   "cell_type": "code",
   "execution_count": 7,
   "id": "b80a02cb-8463-48a6-9fcd-95a714236975",
   "metadata": {
    "execution": {
     "iopub.execute_input": "2022-12-17T04:10:20.686585Z",
     "iopub.status.busy": "2022-12-17T04:10:20.685590Z",
     "iopub.status.idle": "2022-12-17T04:10:20.710521Z",
     "shell.execute_reply": "2022-12-17T04:10:20.709522Z",
     "shell.execute_reply.started": "2022-12-17T04:10:20.686585Z"
    },
    "tags": []
   },
   "outputs": [
    {
     "data": {
      "text/plain": [
       "Timestamp('2017-03-10 01:00:00')"
      ]
     },
     "execution_count": 7,
     "metadata": {},
     "output_type": "execute_result"
    }
   ],
   "source": [
    "df_mining_raw['date'].min()"
   ]
  },
  {
   "cell_type": "markdown",
   "id": "716f1683-bf10-43c2-8779-a6d872f3a67f",
   "metadata": {},
   "source": [
    "## date 補值\n",
    "由於每筆資料為每20秒一筆，所以基本上每一個小時的資訊為180筆。而其中<日期時間>中未滿180筆，在此我們假設為該時間區段中前面的時間缺值，並利用backfill的方式，使用最近後面時間的資料補上缺失的時間區段。由於每筆資料為每20秒一筆，所以基本上每一個小時的資訊為180筆。而其中<日期時間>中未滿180筆，在此我們假設為該時間區段中前面的時間缺值，並利用backfill的方式，使用最近後面時間的資料補上缺失的時間區段。"
   ]
  },
  {
   "cell_type": "code",
   "execution_count": 4,
   "id": "e2f4a5d2-456b-491c-9d84-7377cbf66226",
   "metadata": {
    "execution": {
     "iopub.execute_input": "2022-11-15T15:40:35.258414Z",
     "iopub.status.busy": "2022-11-15T15:40:35.257414Z",
     "iopub.status.idle": "2022-11-15T15:40:35.949952Z",
     "shell.execute_reply": "2022-11-15T15:40:35.948953Z",
     "shell.execute_reply.started": "2022-11-15T15:40:35.258414Z"
    }
   },
   "outputs": [
    {
     "data": {
      "text/plain": [
       "date\n",
       "2017-03-10 01:00:00    174\n",
       "2017-04-10 00:00:00    179\n",
       "Name: % Iron Feed, dtype: int64"
      ]
     },
     "execution_count": 4,
     "metadata": {},
     "output_type": "execute_result"
    }
   ],
   "source": [
    "temp = df_mining_raw.groupby('date').count()['% Iron Feed']\n",
    "temp[temp < 180]"
   ]
  },
  {
   "cell_type": "code",
   "execution_count": 5,
   "id": "5017d3f3-44fb-4e02-8758-188ca634e7a1",
   "metadata": {
    "execution": {
     "iopub.execute_input": "2022-11-15T15:40:35.955936Z",
     "iopub.status.busy": "2022-11-15T15:40:35.954947Z",
     "iopub.status.idle": "2022-11-15T15:40:36.094586Z",
     "shell.execute_reply": "2022-11-15T15:40:36.092647Z",
     "shell.execute_reply.started": "2022-11-15T15:40:35.955936Z"
    }
   },
   "outputs": [],
   "source": [
    "data_0310 = df_mining_raw[df_mining_raw['date']=='2017-03-10 01:00:00'].iloc[[0],:]\n",
    "data_0410 = df_mining_raw[df_mining_raw['date']=='2017-04-10 00:00:00'].iloc[[0],:]"
   ]
  },
  {
   "cell_type": "code",
   "execution_count": 6,
   "id": "0a3aae9c-253e-4b7b-b54d-432c25c2de53",
   "metadata": {
    "execution": {
     "iopub.execute_input": "2022-11-15T15:40:36.095586Z",
     "iopub.status.busy": "2022-11-15T15:40:36.095586Z",
     "iopub.status.idle": "2022-11-15T15:40:36.109549Z",
     "shell.execute_reply": "2022-11-15T15:40:36.108553Z",
     "shell.execute_reply.started": "2022-11-15T15:40:36.095586Z"
    }
   },
   "outputs": [],
   "source": [
    "data_0310_all = pd.DataFrame()\n",
    "for i in range(6):\n",
    "    data_0310_all = pd.concat([data_0310_all, data_0310])"
   ]
  },
  {
   "cell_type": "code",
   "execution_count": 7,
   "id": "2db68e58-e8da-4a5f-8089-6aa573d9a8bf",
   "metadata": {
    "execution": {
     "iopub.execute_input": "2022-11-15T15:40:36.112541Z",
     "iopub.status.busy": "2022-11-15T15:40:36.111544Z",
     "iopub.status.idle": "2022-11-15T15:40:36.141464Z",
     "shell.execute_reply": "2022-11-15T15:40:36.140468Z",
     "shell.execute_reply.started": "2022-11-15T15:40:36.112541Z"
    }
   },
   "outputs": [],
   "source": [
    "df0410 = df_mining_raw[df_mining_raw['date']=='2017-04-10 00:00:00']\n",
    "df0410 = pd.concat([df0410, data_0410]).sort_index()"
   ]
  },
  {
   "cell_type": "code",
   "execution_count": 8,
   "id": "46214494-ddef-4ac7-a5be-73a3c7dc9ab4",
   "metadata": {
    "execution": {
     "iopub.execute_input": "2022-11-15T15:40:36.143458Z",
     "iopub.status.busy": "2022-11-15T15:40:36.142464Z",
     "iopub.status.idle": "2022-11-15T15:40:36.173379Z",
     "shell.execute_reply": "2022-11-15T15:40:36.172384Z",
     "shell.execute_reply.started": "2022-11-15T15:40:36.143458Z"
    }
   },
   "outputs": [],
   "source": [
    "df0310 = df_mining_raw[df_mining_raw['date']=='2017-03-10 01:00:00']\n",
    "df0310 = pd.concat([df0310, data_0310_all]).sort_index()"
   ]
  },
  {
   "cell_type": "code",
   "execution_count": 9,
   "id": "a6b0b4de-4223-4c2d-987f-1a6a2e718263",
   "metadata": {
    "execution": {
     "iopub.execute_input": "2022-11-15T15:40:36.176371Z",
     "iopub.status.busy": "2022-11-15T15:40:36.176371Z",
     "iopub.status.idle": "2022-11-15T15:40:36.269235Z",
     "shell.execute_reply": "2022-11-15T15:40:36.268248Z",
     "shell.execute_reply.started": "2022-11-15T15:40:36.176371Z"
    }
   },
   "outputs": [],
   "source": [
    "df_mining_tmp = df_mining_raw[~df_mining_raw['date'].isin(['2017-04-10 00:00:00', '2017-03-10 01:00:00'])]"
   ]
  },
  {
   "cell_type": "code",
   "execution_count": 10,
   "id": "d28f6c79-2e4d-4f8e-94df-94c8450d5c47",
   "metadata": {
    "execution": {
     "iopub.execute_input": "2022-11-15T15:40:36.274223Z",
     "iopub.status.busy": "2022-11-15T15:40:36.272228Z",
     "iopub.status.idle": "2022-11-15T15:40:36.395898Z",
     "shell.execute_reply": "2022-11-15T15:40:36.394900Z",
     "shell.execute_reply.started": "2022-11-15T15:40:36.274223Z"
    }
   },
   "outputs": [],
   "source": [
    "df_dateclean = pd.concat([df_mining_tmp, df0310])\n",
    "df_dateclean = pd.concat([df_dateclean, df0410])"
   ]
  },
  {
   "cell_type": "code",
   "execution_count": 11,
   "id": "690c16f6-c707-480d-b361-f749332cccc6",
   "metadata": {
    "execution": {
     "iopub.execute_input": "2022-11-15T15:40:36.397892Z",
     "iopub.status.busy": "2022-11-15T15:40:36.396894Z",
     "iopub.status.idle": "2022-11-15T15:40:36.566441Z",
     "shell.execute_reply": "2022-11-15T15:40:36.565443Z",
     "shell.execute_reply.started": "2022-11-15T15:40:36.397892Z"
    }
   },
   "outputs": [],
   "source": [
    "df_dateclean = df_dateclean.sort_index()\n",
    "df_dateclean = df_dateclean.reset_index(drop = True)"
   ]
  },
  {
   "cell_type": "markdown",
   "id": "f2971e6c-a372-4b70-82b4-11fe9cfc615e",
   "metadata": {},
   "source": [
    "## date 切割20秒一筆\n",
    "資料時間欄位的資料同一小時的資料標註時間皆相同，並沒有切割確切時間。所以我們以原始資料的順序進行標註，增加時間欄位datetime，讓每筆資料有獨立的時間標註。資料時間欄位的資料同一小時的資料標註時間皆相同，並沒有切割確切時間。所以我們以原始資料的順序進行標註，增加時間欄位datetime，讓每筆資料有獨立的時間標註。"
   ]
  },
  {
   "cell_type": "code",
   "execution_count": 12,
   "id": "42b97ab8-156b-4a3a-839b-e7f93eceb51d",
   "metadata": {
    "execution": {
     "iopub.execute_input": "2022-11-15T15:40:36.568436Z",
     "iopub.status.busy": "2022-11-15T15:40:36.567437Z",
     "iopub.status.idle": "2022-11-15T15:40:36.692064Z",
     "shell.execute_reply": "2022-11-15T15:40:36.691045Z",
     "shell.execute_reply.started": "2022-11-15T15:40:36.568436Z"
    }
   },
   "outputs": [],
   "source": [
    "all_date = df_dateclean.groupby('date').count().index"
   ]
  },
  {
   "cell_type": "code",
   "execution_count": 13,
   "id": "31fb3b32-b84b-4636-89f5-3d3900d0c22f",
   "metadata": {
    "execution": {
     "iopub.execute_input": "2022-11-15T15:40:36.695057Z",
     "iopub.status.busy": "2022-11-15T15:40:36.694060Z",
     "iopub.status.idle": "2022-11-15T15:40:45.381323Z",
     "shell.execute_reply": "2022-11-15T15:40:45.380321Z",
     "shell.execute_reply.started": "2022-11-15T15:40:36.695057Z"
    }
   },
   "outputs": [],
   "source": [
    "all_date_sc = []\n",
    "for d in range(len(all_date)):\n",
    "    for i in range(0, 180):\n",
    "        all_date_sc.append(all_date[d] + datetime.timedelta(0,20*i))"
   ]
  },
  {
   "cell_type": "code",
   "execution_count": 14,
   "id": "609c1c5d-5263-44ec-b47f-f24931765316",
   "metadata": {
    "execution": {
     "iopub.execute_input": "2022-11-15T15:40:45.387307Z",
     "iopub.status.busy": "2022-11-15T15:40:45.387307Z",
     "iopub.status.idle": "2022-11-15T15:40:46.450342Z",
     "shell.execute_reply": "2022-11-15T15:40:46.449340Z",
     "shell.execute_reply.started": "2022-11-15T15:40:45.387307Z"
    }
   },
   "outputs": [],
   "source": [
    "df_dateclean['datetime'] = all_date_sc"
   ]
  },
  {
   "cell_type": "markdown",
   "id": "9bb58a06-089e-4e11-8ba4-8a2256cc33a0",
   "metadata": {},
   "source": [
    "## adjust y value df_dateclean\n",
    "原始資料集在Kaggle的敘述中表示Y值也就是二氧化矽雜質為每一小時由實驗室出來的數據，所以同一小時的資訊應相同。然而有部分時間雜質比例確實不是如此，為20秒變動一次，我們懷疑為資料提供時有誤，所以我們將這些每小時內二氧化矽雜質不一致的資料進行每小時一次的平均，作為該小時代表之Y值。原始資料集在Kaggle的敘述中表示Y值也就是二氧化矽雜質為每一小時由實驗室出來的數據，所以同一小時的資訊應相同。然而有部分時間雜質比例確實不是如此，為20秒變動一次，我們懷疑為資料提供時有誤，所以我們將這些每小時內二氧化矽雜質不一致的資料進行每小時一次的平均，作為該小時代表之Y值。"
   ]
  },
  {
   "cell_type": "code",
   "execution_count": 15,
   "id": "e49e5874-d706-4a29-aec6-f6772d38e6d4",
   "metadata": {
    "execution": {
     "iopub.execute_input": "2022-11-15T15:40:46.453333Z",
     "iopub.status.busy": "2022-11-15T15:40:46.452336Z",
     "iopub.status.idle": "2022-11-15T15:40:46.780020Z",
     "shell.execute_reply": "2022-11-15T15:40:46.779018Z",
     "shell.execute_reply.started": "2022-11-15T15:40:46.452336Z"
    }
   },
   "outputs": [],
   "source": [
    "iron_wrong_dates = df_dateclean.groupby(['date', '% Iron Concentrate']).count()[df_dateclean.groupby(['date', '% Iron Concentrate']).count()['% Iron Feed']==1].reset_index()['date']"
   ]
  },
  {
   "cell_type": "code",
   "execution_count": 16,
   "id": "194be331-1372-41af-8ebf-05af5a4d4825",
   "metadata": {
    "execution": {
     "iopub.execute_input": "2022-11-15T15:40:46.783012Z",
     "iopub.status.busy": "2022-11-15T15:40:46.782021Z",
     "iopub.status.idle": "2022-11-15T15:40:46.794983Z",
     "shell.execute_reply": "2022-11-15T15:40:46.793984Z",
     "shell.execute_reply.started": "2022-11-15T15:40:46.783012Z"
    }
   },
   "outputs": [],
   "source": [
    "iron_wrong_dates = iron_wrong_dates.drop_duplicates().to_list()"
   ]
  },
  {
   "cell_type": "code",
   "execution_count": 17,
   "id": "59381837-5068-4ec7-8264-e8559a689b97",
   "metadata": {
    "execution": {
     "iopub.execute_input": "2022-11-15T15:40:46.797974Z",
     "iopub.status.busy": "2022-11-15T15:40:46.796975Z",
     "iopub.status.idle": "2022-11-15T15:40:47.155169Z",
     "shell.execute_reply": "2022-11-15T15:40:47.154323Z",
     "shell.execute_reply.started": "2022-11-15T15:40:46.797974Z"
    }
   },
   "outputs": [],
   "source": [
    "sil_wrong_dates = df_dateclean.groupby(['date', '% Silica Concentrate']).count()[df_dateclean.groupby(['date', '% Silica Concentrate']).count()['% Iron Feed']==1].reset_index()['date']"
   ]
  },
  {
   "cell_type": "code",
   "execution_count": 18,
   "id": "1a9c0e12-d0f8-41eb-99a8-8e72aefdaa28",
   "metadata": {
    "execution": {
     "iopub.execute_input": "2022-11-15T15:40:47.158159Z",
     "iopub.status.busy": "2022-11-15T15:40:47.157162Z",
     "iopub.status.idle": "2022-11-15T15:40:47.171126Z",
     "shell.execute_reply": "2022-11-15T15:40:47.170130Z",
     "shell.execute_reply.started": "2022-11-15T15:40:47.158159Z"
    }
   },
   "outputs": [],
   "source": [
    "sil_wrong_dates = sil_wrong_dates.drop_duplicates().to_list()"
   ]
  },
  {
   "cell_type": "code",
   "execution_count": 19,
   "id": "c893cad6-ba96-41c5-8b71-257db29e0490",
   "metadata": {
    "execution": {
     "iopub.execute_input": "2022-11-15T15:40:47.174118Z",
     "iopub.status.busy": "2022-11-15T15:40:47.173120Z",
     "iopub.status.idle": "2022-11-15T15:40:47.188080Z",
     "shell.execute_reply": "2022-11-15T15:40:47.186096Z",
     "shell.execute_reply.started": "2022-11-15T15:40:47.174118Z"
    }
   },
   "outputs": [],
   "source": [
    "all_wrong_date = sorted(list(set(sil_wrong_dates) | set(iron_wrong_dates)))"
   ]
  },
  {
   "cell_type": "code",
   "execution_count": 20,
   "id": "bc74e23a-d24a-403f-8f1c-d8ec05e29497",
   "metadata": {
    "execution": {
     "iopub.execute_input": "2022-11-15T15:40:47.190074Z",
     "iopub.status.busy": "2022-11-15T15:40:47.189079Z",
     "iopub.status.idle": "2022-11-15T15:40:51.823844Z",
     "shell.execute_reply": "2022-11-15T15:40:51.822591Z",
     "shell.execute_reply.started": "2022-11-15T15:40:47.190074Z"
    }
   },
   "outputs": [],
   "source": [
    "for d in all_wrong_date:\n",
    "    this_iron_mean = round(df_dateclean[df_dateclean['date']==d]['% Iron Concentrate'].mean(), 2)\n",
    "    this_sil_mean = round(df_dateclean[df_dateclean['date']==d]['% Silica Concentrate'].mean(), 2)\n",
    "    df_dateclean.loc[df_dateclean[\"date\"] == d, \"% Iron Concentrate\"] = this_iron_mean\n",
    "    df_dateclean.loc[df_dateclean[\"date\"] == d, \"% Silica Concentrate\"] = this_sil_mean"
   ]
  },
  {
   "cell_type": "code",
   "execution_count": 21,
   "id": "858c6194-186e-43ff-ac6c-71df4569a099",
   "metadata": {
    "execution": {
     "iopub.execute_input": "2022-11-15T15:40:51.825842Z",
     "iopub.status.busy": "2022-11-15T15:40:51.824845Z",
     "iopub.status.idle": "2022-11-15T15:40:51.885682Z",
     "shell.execute_reply": "2022-11-15T15:40:51.884684Z",
     "shell.execute_reply.started": "2022-11-15T15:40:51.825842Z"
    }
   },
   "outputs": [],
   "source": [
    "df_yclean = df_dateclean.copy()"
   ]
  },
  {
   "cell_type": "code",
   "execution_count": 22,
   "id": "aa405dea-b38c-4bfa-a529-f983099eb671",
   "metadata": {
    "execution": {
     "iopub.execute_input": "2022-11-15T15:40:51.890675Z",
     "iopub.status.busy": "2022-11-15T15:40:51.888677Z",
     "iopub.status.idle": "2022-11-15T15:40:51.917598Z",
     "shell.execute_reply": "2022-11-15T15:40:51.914604Z",
     "shell.execute_reply.started": "2022-11-15T15:40:51.890675Z"
    }
   },
   "outputs": [
    {
     "data": {
      "text/plain": [
       "(737460, 25)"
      ]
     },
     "execution_count": 22,
     "metadata": {},
     "output_type": "execute_result"
    }
   ],
   "source": [
    "df_yclean.shape"
   ]
  },
  {
   "cell_type": "code",
   "execution_count": 23,
   "id": "bea8f571-ab9e-4f31-ba60-54682cc96b4b",
   "metadata": {
    "execution": {
     "iopub.execute_input": "2022-11-15T15:40:51.919592Z",
     "iopub.status.busy": "2022-11-15T15:40:51.919592Z",
     "iopub.status.idle": "2022-11-15T15:41:10.407886Z",
     "shell.execute_reply": "2022-11-15T15:41:10.406882Z",
     "shell.execute_reply.started": "2022-11-15T15:40:51.919592Z"
    },
    "tags": []
   },
   "outputs": [],
   "source": [
    "df_yclean.to_csv('./data/Flotation_Plant_preprocessed.csv', index = False)"
   ]
  }
 ],
 "metadata": {
  "kernelspec": {
   "display_name": "Python 3 (ipykernel)",
   "language": "python",
   "name": "python3"
  },
  "language_info": {
   "codemirror_mode": {
    "name": "ipython",
    "version": 3
   },
   "file_extension": ".py",
   "mimetype": "text/x-python",
   "name": "python",
   "nbconvert_exporter": "python",
   "pygments_lexer": "ipython3",
   "version": "3.8.13"
  }
 },
 "nbformat": 4,
 "nbformat_minor": 5
}
